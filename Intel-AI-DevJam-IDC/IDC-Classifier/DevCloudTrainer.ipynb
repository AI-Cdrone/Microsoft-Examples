{
 "cells": [
  {
   "cell_type": "markdown",
   "metadata": {},
   "source": [
    "## IDC Classification Trainer"
   ]
  },
  {
   "cell_type": "markdown",
   "metadata": {},
   "source": [
    "This notebook provides the functionality to train an Inception V3 model for classification of invasive ductal carcinoma (IDC) using transfer learning. We are training the model on the lastest Skylake cluster (c009) on Intel A.I. DevCloud (Colfax Cluster) and will use the model with Intel Movidius.\n",
    "\n",
    "This tutorial is part of Machine Learning and Mammography by Adam Milton-Barker."
   ]
  },
  {
   "cell_type": "markdown",
   "metadata": {},
   "source": [
    "# Create data sorter job"
   ]
  },
  {
   "cell_type": "markdown",
   "metadata": {},
   "source": [
    "The first step is to create a script that can be used to create a job on the A.I. DevCloud for sorting the uploaded data. Before you run the following block make sure you have followed all of the steps at the beginning of the README file in the home directory of this project."
   ]
  },
  {
   "cell_type": "code",
   "execution_count": 10,
   "metadata": {},
   "outputs": [
    {
     "name": "stdout",
     "output_type": "stream",
     "text": [
      "Writing IDC-DevCloud-Data-Sorter\n"
     ]
    }
   ],
   "source": [
    "%%writefile IDC-DevCloud-Data-Sorter\n",
    "cd $PBS_O_WORKDIR\n",
    "echo \"* Hello world from compute server `hostname` on the A.I. DevCloud!\"\n",
    "echo \"* The current directory is ${PWD}.\"\n",
    "echo \"* Compute server's CPU model and number of logical CPUs:\"\n",
    "lscpu | grep 'Model name\\\\|^CPU(s)'\n",
    "echo \"* Python available to us:\"\n",
    "export PATH=/glob/intel-python/python3/bin:$PATH;\n",
    "which python\n",
    "python --version\n",
    "echo \"* This job sorts the data for the IDC Classifier on the Colfax Cluster\"\n",
    "python DevCloudTrainer.py DataSort\n",
    "sleep 10\n",
    "echo \"*Adios\"\n",
    "# Remember to have an empty line at the end of the file; otherwise the last command will not run\n"
   ]
  },
  {
   "cell_type": "markdown",
   "metadata": {},
   "source": [
    "# Check the data sorter job script was created"
   ]
  },
  {
   "cell_type": "markdown",
   "metadata": {},
   "source": [
    "Now check that the data sorter job script was created successfully by executing the following block which will print out the files located in the current directory. If all was successful, you should see the file \"IDC-DevCloud-Data-Sorter\". You can also open this file to confirm that the contents are correct."
   ]
  },
  {
   "cell_type": "code",
   "execution_count": 18,
   "metadata": {},
   "outputs": [
    {
     "name": "stdout",
     "output_type": "stream",
     "text": [
      "DevCloudTrainer.ipynb  IDC-DevCloud-Data-Sorter  \u001b[0m\u001b[01;34mtools\u001b[0m/\r\n",
      "DevCloudTrainer.py     \u001b[01;34mmodel\u001b[0m/\r\n"
     ]
    }
   ],
   "source": [
    "%ls"
   ]
  },
  {
   "cell_type": "markdown",
   "metadata": {},
   "source": [
    "# Submit the data sorter job script"
   ]
  },
  {
   "cell_type": "markdown",
   "metadata": {},
   "source": [
    "Now it is time to submit your data sorter job script, this will queue the training script ready for execution and return your job ID."
   ]
  },
  {
   "cell_type": "code",
   "execution_count": 19,
   "metadata": {},
   "outputs": [
    {
     "name": "stdout",
     "output_type": "stream",
     "text": [
      "71698.c009\r\n"
     ]
    }
   ],
   "source": [
    "!qsub IDC-DevCloud-Data-Sorter"
   ]
  },
  {
   "cell_type": "markdown",
   "metadata": {},
   "source": [
    "# Check the status of the job"
   ]
  },
  {
   "cell_type": "markdown",
   "metadata": {},
   "source": [
    "Now you can monitor the status of the job by executing the following block. You may need to do this a number of times before the job completes. \n",
    "\n",
    "JOB STATUSES\n",
    "\n",
    "R: Running  \n",
    "Q: Waiting in queue"
   ]
  },
  {
   "cell_type": "code",
   "execution_count": 20,
   "metadata": {},
   "outputs": [
    {
     "name": "stdout",
     "output_type": "stream",
     "text": [
      "Job ID                    Name             User            Time Use S Queue\r\n",
      "------------------------- ---------------- --------------- -------- - -----\r\n",
      "71615.c009                 ...ub-singleuser u13339          00:00:15 R jupyterhub     \r\n",
      "71698.c009                 ...d-Data-Sorter u13339                 0 Q batch          \r\n"
     ]
    }
   ],
   "source": [
    "!qstat"
   ]
  },
  {
   "cell_type": "markdown",
   "metadata": {},
   "source": [
    "You can also get a full list of stats for the job by executing the following block, replacing the ID with your job ID:"
   ]
  },
  {
   "cell_type": "code",
   "execution_count": 21,
   "metadata": {},
   "outputs": [
    {
     "name": "stdout",
     "output_type": "stream",
     "text": [
      "Job Id: 71698.c009\r\n",
      "    Job_Name = IDC-DevCloud-Data-Sorter\r\n",
      "    Job_Owner = u13339@c009-n001\r\n",
      "    job_state = Q\r\n",
      "    queue = batch\r\n",
      "    server = c009\r\n",
      "    Checkpoint = u\r\n",
      "    ctime = Sat Apr 21 14:53:49 2018\r\n",
      "    Error_Path = c009-n001:/home/u13339/IDC-Colfax-Trainer/IDC-DevCloud-Data-S\r\n",
      "\torter.e71698\r\n",
      "    Hold_Types = n\r\n",
      "    Join_Path = n\r\n",
      "    Keep_Files = n\r\n",
      "    Mail_Points = n\r\n",
      "    mtime = Sat Apr 21 14:53:49 2018\r\n",
      "    Output_Path = c009-n001:/home/u13339/IDC-Colfax-Trainer/IDC-DevCloud-Data-\r\n",
      "\tSorter.o71698\r\n",
      "    Priority = 0\r\n",
      "    qtime = Sat Apr 21 14:53:49 2018\r\n",
      "    Rerunable = True\r\n",
      "    Resource_List.nodect = 1\r\n",
      "    Resource_List.nodes = 1:ppn=2\r\n",
      "    Resource_List.walltime = 06:00:00\r\n",
      "    Variable_List = PBS_O_QUEUE=batch,PBS_O_HOME=/home/u13339,\r\n",
      "\tPBS_O_LOGNAME=u13339,\r\n",
      "\tPBS_O_PATH=/glob/intel-python/python3/bin/:/glob/intel-python/python3\r\n",
      "\t/bin/:/glob/intel-python/python2/bin/:/glob/development-tools/versions\r\n",
      "\t/intel-parallel-studio-2018-update2/compilers_and_libraries_2018.2.199\r\n",
      "\t/linux/bin/intel64:/glob/development-tools/versions/intel-parallel-stu\r\n",
      "\tdio-2018-update2/compilers_and_libraries_2018.2.199/linux/mpi/intel64/\r\n",
      "\tbin:/glob/intel-python/python3/bin/:/glob/intel-python/python2/bin/:/g\r\n",
      "\tlob/development-tools/versions/intel-parallel-studio-2018-update2/comp\r\n",
      "\tilers_and_libraries_2018.2.199/linux/bin/intel64:/glob/development-too\r\n",
      "\tls/versions/intel-parallel-studio-2018-update2/compilers_and_libraries\r\n",
      "\t_2018.2.199/linux/mpi/intel64/bin:/sbin:/bin:/usr/sbin:/usr/bin:/usr/l\r\n",
      "\tocal/sbin:/home/u13339/.local/bin:/home/u13339/bin:/home/u13339/.local\r\n",
      "\t/bin:/home/u13339/bin:/usr/local/bin,\r\n",
      "\tPBS_O_MAIL=/var/spool/mail/u13339,PBS_O_SHELL=/bin/bash,\r\n",
      "\tPBS_O_LANG=en_US.UTF-8,\r\n",
      "\tPBS_O_SUBMIT_FILTER=/usr/local/sbin/torque_submitfilter,\r\n",
      "\tPBS_O_WORKDIR=/home/u13339/IDC-Colfax-Trainer,PBS_O_HOST=c009-n001,\r\n",
      "\tPBS_O_SERVER=c009\r\n",
      "    euser = u13339\r\n",
      "    egroup = u13339\r\n",
      "    queue_type = E\r\n",
      "    etime = Sat Apr 21 14:53:49 2018\r\n",
      "    submit_args = IDC-DevCloud-Data-Sorter\r\n",
      "    fault_tolerant = False\r\n",
      "    job_radix = 0\r\n",
      "    submit_host = c009-n001\r\n",
      "\r\n"
     ]
    }
   ],
   "source": [
    "!qstat -f 71698"
   ]
  },
  {
   "cell_type": "markdown",
   "metadata": {},
   "source": [
    "# Check error and output files"
   ]
  },
  {
   "cell_type": "markdown",
   "metadata": {},
   "source": [
    "After the above job finished you will see two files in your current directory, as the job ID in my case was 57185, my error file ends with e57185 and my output file ends with o57185. In this case the error file contained a FutureWarning. The output will show you the full output of your program."
   ]
  },
  {
   "cell_type": "code",
   "execution_count": 24,
   "metadata": {},
   "outputs": [
    {
     "name": "stdout",
     "output_type": "stream",
     "text": [
      "DevCloudTrainer.ipynb     IDC-DevCloud-Data-Sorter.e71698  \u001b[0m\u001b[01;34mtools\u001b[0m/\r\n",
      "DevCloudTrainer.py        IDC-DevCloud-Data-Sorter.o71698\r\n",
      "IDC-DevCloud-Data-Sorter  \u001b[01;34mmodel\u001b[0m/\r\n"
     ]
    }
   ],
   "source": [
    "%ls"
   ]
  },
  {
   "cell_type": "markdown",
   "metadata": {},
   "source": [
    "# Create training job"
   ]
  },
  {
   "cell_type": "markdown",
   "metadata": {},
   "source": [
    "Now it is time to create your training job, the script required for this is almost identical to the above created script, all we need to do is change filename and the commandline argument."
   ]
  },
  {
   "cell_type": "code",
   "execution_count": 25,
   "metadata": {},
   "outputs": [
    {
     "name": "stdout",
     "output_type": "stream",
     "text": [
      "Writing IDC-DevCloud-Trainer\n"
     ]
    }
   ],
   "source": [
    "%%writefile IDC-DevCloud-Trainer\n",
    "cd $PBS_O_WORKDIR\n",
    "echo \"* Hello world from compute server `hostname` on the A.I. DevCloud!\"\n",
    "echo \"* The current directory is ${PWD}.\"\n",
    "echo \"* Compute server's CPU model and number of logical CPUs:\"\n",
    "lscpu | grep 'Model name\\\\|^CPU(s)'\n",
    "echo \"* Python available to us:\"\n",
    "export PATH=/glob/intel-python/python3/bin:$PATH;\n",
    "which python\n",
    "python --version\n",
    "echo \"* This job trains the IDC Classifier on the Colfax Cluster\"\n",
    "python DevCloudTrainer.py Train\n",
    "sleep 10\n",
    "echo \"*Adios\"\n",
    "# Remember to have an empty line at the end of the file; otherwise the last command will not run\n"
   ]
  },
  {
   "cell_type": "markdown",
   "metadata": {},
   "source": [
    "# Check the training job script was created"
   ]
  },
  {
   "cell_type": "markdown",
   "metadata": {},
   "source": [
    "Now check that the trainer job script was created successfully by executing the following block which will print out the files located in the current directory. If all was successful, you should see the file \"IDC-DevCloud-Trainer\". You can also open this file to confirm that the contents are correct."
   ]
  },
  {
   "cell_type": "code",
   "execution_count": 26,
   "metadata": {},
   "outputs": [
    {
     "name": "stdout",
     "output_type": "stream",
     "text": [
      "DevCloudTrainer.ipynb     IDC-DevCloud-Data-Sorter.e71698  \u001b[0m\u001b[01;34mmodel\u001b[0m/\r\n",
      "DevCloudTrainer.py        IDC-DevCloud-Data-Sorter.o71698  \u001b[01;34mtools\u001b[0m/\r\n",
      "IDC-DevCloud-Data-Sorter  IDC-DevCloud-Trainer\r\n"
     ]
    }
   ],
   "source": [
    "%ls"
   ]
  },
  {
   "cell_type": "markdown",
   "metadata": {},
   "source": [
    "# Submit the training job script"
   ]
  },
  {
   "cell_type": "markdown",
   "metadata": {},
   "source": [
    "Now it is time to submit your training job script, this will queue the training script ready for execution and return your job ID. In this command we set the walltime to 24 hours, which should give our script enough time to fully complete without getting killed. "
   ]
  },
  {
   "cell_type": "code",
   "execution_count": 32,
   "metadata": {},
   "outputs": [
    {
     "name": "stdout",
     "output_type": "stream",
     "text": [
      "71782.c009\r\n"
     ]
    }
   ],
   "source": [
    "!qsub -l walltime=24:00:00 IDC-DevCloud-Trainer"
   ]
  },
  {
   "cell_type": "markdown",
   "metadata": {},
   "source": [
    "# Check the status of the job"
   ]
  },
  {
   "cell_type": "code",
   "execution_count": 33,
   "metadata": {},
   "outputs": [
    {
     "name": "stdout",
     "output_type": "stream",
     "text": [
      "Job ID                    Name             User            Time Use S Queue\r\n",
      "------------------------- ---------------- --------------- -------- - -----\r\n",
      "71615.c009                 ...ub-singleuser u13339          00:12:26 R jupyterhub     \r\n",
      "71782.c009                 ...Cloud-Trainer u13339                 0 Q batch          \r\n"
     ]
    }
   ],
   "source": [
    "!qstat"
   ]
  },
  {
   "cell_type": "code",
   "execution_count": 34,
   "metadata": {},
   "outputs": [
    {
     "name": "stdout",
     "output_type": "stream",
     "text": [
      "Job Id: 71782.c009\r\n",
      "    Job_Name = IDC-DevCloud-Trainer\r\n",
      "    Job_Owner = u13339@c009-n001\r\n",
      "    job_state = Q\r\n",
      "    queue = batch\r\n",
      "    server = c009\r\n",
      "    Checkpoint = u\r\n",
      "    ctime = Sat Apr 21 17:40:03 2018\r\n",
      "    Error_Path = c009-n001:/home/u13339/IDC-Colfax-Trainer/IDC-DevCloud-Traine\r\n",
      "\tr.e71782\r\n",
      "    Hold_Types = n\r\n",
      "    Join_Path = n\r\n",
      "    Keep_Files = n\r\n",
      "    Mail_Points = n\r\n",
      "    mtime = Sat Apr 21 17:40:03 2018\r\n",
      "    Output_Path = c009-n001:/home/u13339/IDC-Colfax-Trainer/IDC-DevCloud-Train\r\n",
      "\ter.o71782\r\n",
      "    Priority = 0\r\n",
      "    qtime = Sat Apr 21 17:40:03 2018\r\n",
      "    Rerunable = True\r\n",
      "    Resource_List.nodect = 1\r\n",
      "    Resource_List.nodes = 1:ppn=2\r\n",
      "    Resource_List.walltime = 24:00:00\r\n",
      "    Variable_List = PBS_O_QUEUE=batch,PBS_O_HOME=/home/u13339,\r\n",
      "\tPBS_O_LOGNAME=u13339,\r\n",
      "\tPBS_O_PATH=/glob/intel-python/python3/bin/:/glob/intel-python/python3\r\n",
      "\t/bin/:/glob/intel-python/python2/bin/:/glob/development-tools/versions\r\n",
      "\t/intel-parallel-studio-2018-update2/compilers_and_libraries_2018.2.199\r\n",
      "\t/linux/bin/intel64:/glob/development-tools/versions/intel-parallel-stu\r\n",
      "\tdio-2018-update2/compilers_and_libraries_2018.2.199/linux/mpi/intel64/\r\n",
      "\tbin:/glob/intel-python/python3/bin/:/glob/intel-python/python2/bin/:/g\r\n",
      "\tlob/development-tools/versions/intel-parallel-studio-2018-update2/comp\r\n",
      "\tilers_and_libraries_2018.2.199/linux/bin/intel64:/glob/development-too\r\n",
      "\tls/versions/intel-parallel-studio-2018-update2/compilers_and_libraries\r\n",
      "\t_2018.2.199/linux/mpi/intel64/bin:/sbin:/bin:/usr/sbin:/usr/bin:/usr/l\r\n",
      "\tocal/sbin:/home/u13339/.local/bin:/home/u13339/bin:/home/u13339/.local\r\n",
      "\t/bin:/home/u13339/bin:/usr/local/bin,\r\n",
      "\tPBS_O_MAIL=/var/spool/mail/u13339,PBS_O_SHELL=/bin/bash,\r\n",
      "\tPBS_O_LANG=en_US.UTF-8,\r\n",
      "\tPBS_O_SUBMIT_FILTER=/usr/local/sbin/torque_submitfilter,\r\n",
      "\tPBS_O_WORKDIR=/home/u13339/IDC-Colfax-Trainer,PBS_O_HOST=c009-n001,\r\n",
      "\tPBS_O_SERVER=c009\r\n",
      "    euser = u13339\r\n",
      "    egroup = u13339\r\n",
      "    queue_type = E\r\n",
      "    etime = Sat Apr 21 17:40:03 2018\r\n",
      "    submit_args = -l walltime=24:00:00 IDC-DevCloud-Trainer\r\n",
      "    fault_tolerant = False\r\n",
      "    job_radix = 0\r\n",
      "    submit_host = c009-n001\r\n",
      "\r\n"
     ]
    }
   ],
   "source": [
    "!qstat -f 71782"
   ]
  },
  {
   "cell_type": "markdown",
   "metadata": {},
   "source": [
    "# Evaluate your model"
   ]
  },
  {
   "cell_type": "markdown",
   "metadata": {},
   "source": [
    "Now we will evaluate the model. "
   ]
  },
  {
   "cell_type": "code",
   "execution_count": 30,
   "metadata": {},
   "outputs": [
    {
     "name": "stdout",
     "output_type": "stream",
     "text": [
      "Writing IDC-DevCloud-Evaluator\n"
     ]
    }
   ],
   "source": [
    "%%writefile IDC-DevCloud-Evaluator\n",
    "cd $PBS_O_WORKDIR\n",
    "echo \"* Hello world from compute server `hostname` on the A.I. DevCloud!\"\n",
    "echo \"* The current directory is ${PWD}.\"\n",
    "echo \"* Compute server's CPU model and number of logical CPUs:\"\n",
    "lscpu | grep 'Model name\\\\|^CPU(s)'\n",
    "echo \"* Python available to us:\"\n",
    "export PATH=/glob/intel-python/python3/bin:$PATH;\n",
    "which python\n",
    "python --version\n",
    "echo \"* This job evaluates the IDC Classifier on the Colfax Cluster\"\n",
    "python Eval.py\n",
    "sleep 10\n",
    "echo \"*Adios\"\n",
    "# Remember to have an empty line at the end of the file; otherwise the last command will not run"
   ]
  },
  {
   "cell_type": "markdown",
   "metadata": {},
   "source": [
    "# Submit the evaluator job script"
   ]
  },
  {
   "cell_type": "markdown",
   "metadata": {},
   "source": [
    "Execute the following block and then check the output file generated at the end of the program. Due to the way the AI DevCloud works the output you need to view will actually be in the error log."
   ]
  },
  {
   "cell_type": "code",
   "execution_count": 31,
   "metadata": {},
   "outputs": [
    {
     "name": "stdout",
     "output_type": "stream",
     "text": [
      "71780.c009\n",
      "Job ID                    Name             User            Time Use S Queue\n",
      "------------------------- ---------------- --------------- -------- - -----\n",
      "71615.c009                 ...ub-singleuser u13339          00:12:21 R jupyterhub     \n",
      "71780.c009                 ...oud-Evaluator u13339                 0 Q batch          \n"
     ]
    }
   ],
   "source": [
    "!qsub IDC-DevCloud-Evaluator\n",
    "!qstat"
   ]
  },
  {
   "cell_type": "markdown",
   "metadata": {},
   "source": [
    "# Download your trained model"
   ]
  },
  {
   "cell_type": "markdown",
   "metadata": {},
   "source": [
    "When your training job completes, you will need to download the model and continue with the main README tutorial to convert the model into a format suitable for the Intel Movidius and complete the setup of the client and server. "
   ]
  },
  {
   "cell_type": "markdown",
   "metadata": {},
   "source": [
    "## CONGRATULATIONS"
   ]
  },
  {
   "cell_type": "markdown",
   "metadata": {},
   "source": [
    "You have completed the training of an IDC classifier on the Intel AI DevCloud!"
   ]
  }
 ],
 "metadata": {
  "kernelspec": {
   "display_name": "Python 3 (Intel, 2018 update 2)",
   "language": "python",
   "name": "intel_distribution_of_python_3_2018u2"
  },
  "language_info": {
   "codemirror_mode": {
    "name": "ipython",
    "version": 3
   },
   "file_extension": ".py",
   "mimetype": "text/x-python",
   "name": "python",
   "nbconvert_exporter": "python",
   "pygments_lexer": "ipython3",
   "version": "3.6.3"
  }
 },
 "nbformat": 4,
 "nbformat_minor": 2
}
